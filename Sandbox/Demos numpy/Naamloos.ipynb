{
 "cells": [
  {
   "cell_type": "code",
   "execution_count": null,
   "id": "e74fe8b4",
   "metadata": {},
   "outputs": [],
   "source": [
    "import numpy as np\n",
    "import matplotlib\n",
    "matplotlib.use('TkAgg')\n",
    "\n",
    "import matplotlib.pyplot as plt\n",
    "\n",
    "import scipy.fftpack\n",
    "\n",
    "# DFFT\n",
    "def f(t, harmonics):\n",
    "    v = 0\n",
    "    for i, harmonic in enumerate(harmonics):\n",
    "        v += harmonic * np.sin(i * 2.0 * np.pi * t)\n",
    "    return v\n",
    "\n",
    "# Number of samplepoints\n",
    "N = 600\n",
    "# sample spacing\n",
    "T = 1.0 / 30.0\n",
    "\n",
    "t = np.linspace(0.0, N*T, N)\n",
    "y = f(t, (0, 3.0, 0.9, 0.8, 0.1, 0.2, 0.9))\n",
    "\n",
    "yf = scipy.fftpack.fft(y)\n",
    "xf = np.linspace(0.0, 1.0/(2.0*T), N//2)\n",
    "\n",
    "fig, axarr = plt.subplots(2)\n",
    "fig.subplots_adjust(hspace=0.5)\n",
    "axarr[0].plot(t, y)\n",
    "axarr[0].set_title('Signal')\n",
    "axarr[1].plot(xf, 2.0/N * np.abs(yf[:N//2]), color='#dd4444')\n",
    "axarr[1].set_title('Spectrum')\n",
    "axarr[1].grid(True)\n",
    "axarr[1].set_xlim(xmin=0)\n",
    "axarr[1].set_ylim(ymin=0)\n",
    "axarr[1].set_xticks(np.arange(*axarr[1].get_xlim(), step=1))\n",
    "axarr[1].set_yticks(np.arange(*axarr[1].get_ylim(), step=0.2))\n",
    "plt.show()\n"
   ]
  },
  {
   "cell_type": "code",
   "execution_count": null,
   "id": "bf0bd1ad",
   "metadata": {},
   "outputs": [],
   "source": []
  }
 ],
 "metadata": {
  "kernelspec": {
   "display_name": "Python 3 (ipykernel)",
   "language": "python",
   "name": "python3"
  },
  "language_info": {
   "codemirror_mode": {
    "name": "ipython",
    "version": 3
   },
   "file_extension": ".py",
   "mimetype": "text/x-python",
   "name": "python",
   "nbconvert_exporter": "python",
   "pygments_lexer": "ipython3",
   "version": "3.10.6"
  }
 },
 "nbformat": 4,
 "nbformat_minor": 5
}
